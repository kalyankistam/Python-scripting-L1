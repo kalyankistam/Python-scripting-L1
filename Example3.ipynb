{
 "cells": [
  {
   "cell_type": "code",
   "execution_count": 7,
   "metadata": {},
   "outputs": [],
   "source": [
    "def isListOfInts(list1):\n",
    "    if isinstance(list1, list):\n",
    "\n",
    "      if all(isinstance(item, int) for item in list1):\n",
    "        print(list1,'-->true');\n",
    "      else:\n",
    "        print(list1,'-->false');\n",
    "    else:\n",
    "        print(\"ValueError: \",list1,\" - arg not of <list> type\");\n",
    "\n",
    "def testList(list1):\n",
    "    if list1==[]:\n",
    "        print([],'-->true');\n",
    "    else:\n",
    "      return isListOfInts(list1)"
   ]
  },
  {
   "cell_type": "code",
   "execution_count": 11,
   "metadata": {},
   "outputs": [
    {
     "name": "stdout",
     "output_type": "stream",
     "text": [
      "[] -->true\n"
     ]
    }
   ],
   "source": [
    "testList([]);"
   ]
  },
  {
   "cell_type": "code",
   "execution_count": 12,
   "metadata": {},
   "outputs": [
    {
     "name": "stdout",
     "output_type": "stream",
     "text": [
      "[1] -->true\n"
     ]
    }
   ],
   "source": [
    "testList([1]);"
   ]
  },
  {
   "cell_type": "code",
   "execution_count": 13,
   "metadata": {},
   "outputs": [
    {
     "name": "stdout",
     "output_type": "stream",
     "text": [
      "[1, 2] -->true\n"
     ]
    }
   ],
   "source": [
    "testList([1,2]);"
   ]
  },
  {
   "cell_type": "code",
   "execution_count": 14,
   "metadata": {},
   "outputs": [
    {
     "name": "stdout",
     "output_type": "stream",
     "text": [
      "[0] -->true\n"
     ]
    }
   ],
   "source": [
    "testList([0]);"
   ]
  },
  {
   "cell_type": "code",
   "execution_count": 15,
   "metadata": {},
   "outputs": [
    {
     "name": "stdout",
     "output_type": "stream",
     "text": [
      "['1'] -->false\n"
     ]
    }
   ],
   "source": [
    "testList(['1'])"
   ]
  },
  {
   "cell_type": "code",
   "execution_count": 16,
   "metadata": {},
   "outputs": [
    {
     "name": "stdout",
     "output_type": "stream",
     "text": [
      "[1, 'a'] -->false\n"
     ]
    }
   ],
   "source": [
    "testList([1,'a'])"
   ]
  },
  {
   "cell_type": "code",
   "execution_count": 17,
   "metadata": {},
   "outputs": [
    {
     "name": "stdout",
     "output_type": "stream",
     "text": [
      "['a', 1] -->false\n"
     ]
    }
   ],
   "source": [
    "testList(['a',1])"
   ]
  },
  {
   "cell_type": "code",
   "execution_count": 18,
   "metadata": {},
   "outputs": [
    {
     "name": "stdout",
     "output_type": "stream",
     "text": [
      "[1, 1.0] -->false\n"
     ]
    }
   ],
   "source": [
    "testList([1, 1.])"
   ]
  },
  {
   "cell_type": "code",
   "execution_count": 19,
   "metadata": {},
   "outputs": [
    {
     "name": "stdout",
     "output_type": "stream",
     "text": [
      "[1.0, 1.0] -->false\n"
     ]
    }
   ],
   "source": [
    "testList([1., 1.])"
   ]
  },
  {
   "cell_type": "code",
   "execution_count": 20,
   "metadata": {},
   "outputs": [
    {
     "name": "stdout",
     "output_type": "stream",
     "text": [
      "ValueError:  (1, 2)  - arg not of <list> type\n"
     ]
    }
   ],
   "source": [
    "testList((1,2))"
   ]
  }
 ],
 "metadata": {
  "kernelspec": {
   "display_name": "Python 3",
   "language": "python",
   "name": "python3"
  }
 },
 "nbformat": 4,
 "nbformat_minor": 4
}
