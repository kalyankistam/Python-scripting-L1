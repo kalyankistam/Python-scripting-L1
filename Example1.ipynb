{
 "cells": [
  {
   "cell_type": "code",
   "execution_count": 9,
   "metadata": {},
   "outputs": [],
   "source": [
    "def ruler(x):\n",
    "    i = 1\n",
    "    s1 = \"\"\n",
    "    s2 = \" \"\n",
    "    while (i <= x):\n",
    "        s1 += str(i % 10)\n",
    "        i += 1\n",
    "        if (i % 10 == 0):\n",
    "            s2 += str(int(i / 10))\n",
    "        else:\n",
    "            s2 += \" \"\n",
    "    print(s2)\n",
    "    print(s1)\n"
   ]
  },
  {
   "cell_type": "code",
   "execution_count": 11,
   "metadata": {},
   "outputs": [
    {
     "name": "stdout",
     "output_type": "stream",
     "text": [
      "      \n",
      "12345\n",
      "         1 \n",
      "1234567890\n",
      "         1         2      \n",
      "1234567890123456789012345\n",
      "         1         2         3         4         5  \n",
      "123456789012345678901234567890123456789012345678901\n",
      "         1         2         3         4         5         6         7         8 \n",
      "12345678901234567890123456789012345678901234567890123456789012345678901234567890\n"
     ]
    }
   ],
   "source": [
    "ruler(5)\n",
    "ruler(10)\n",
    "ruler(25)\n",
    "ruler(51)\n",
    "ruler(80)"
   ]
  },
  {
   "cell_type": "code",
   "execution_count": null,
   "metadata": {},
   "outputs": [],
   "source": []
  }
 ],
 "metadata": {
  "kernelspec": {
   "display_name": "Python 3",
   "language": "python",
   "name": "python3"
  },
  "language_info": {
   "codemirror_mode": {
    "name": "ipython",
    "version": 3
   },
   "file_extension": ".py",
   "mimetype": "text/x-python",
   "name": "python",
   "nbconvert_exporter": "python",
   "pygments_lexer": "ipython3",
   "version": "3.8.3"
  }
 },
 "nbformat": 4,
 "nbformat_minor": 4
}
