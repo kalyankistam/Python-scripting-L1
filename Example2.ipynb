{
 "cells": [
  {
   "cell_type": "code",
   "execution_count": 9,
   "metadata": {},
   "outputs": [
    {
     "name": "stdout",
     "output_type": "stream",
     "text": [
      "pathnameC:/Users/kistam_kalyan/Data Science assignments/demo.txt\n",
      "\n",
      "ThisisthesecondPythonAssignment\n"
     ]
    }
   ],
   "source": [
    "def isWhiteLine(str1):\n",
    "    r=str1.strip();\n",
    "    s=r.replace(\" \",\"\");\n",
    "    print();\n",
    "    if s==s.isspace():\n",
    "        print('true');\n",
    "    else:\n",
    "        print(s);\n",
    "\n",
    "def fileExists(file):\n",
    "    try:\n",
    "        file=input(\"pathname\");\n",
    "        with open(file) as f:\n",
    "            str1 = list(f)\n",
    "            str2 = ''.join(str(e) for e in str1)\n",
    "        isWhiteLine(str2);\n",
    "    except FileNotFoundError:\n",
    "        return False\n",
    "\n",
    "fileExists('demo.txt');\n"
   ]
  }
 ],
 "metadata": {
  "kernelspec": {
   "display_name": "Python 3",
   "language": "python",
   "name": "python3"
  },
  "language_info": {
   "codemirror_mode": {
    "name": "ipython",
    "version": 3
   },
   "file_extension": ".py",
   "mimetype": "text/x-python",
   "name": "python",
   "nbconvert_exporter": "python",
   "pygments_lexer": "ipython3",
   "version": "3.8.3"
  }
 },
 "nbformat": 4,
 "nbformat_minor": 4
}
